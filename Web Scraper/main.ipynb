{
 "cells": [
  {
   "cell_type": "code",
   "execution_count": null,
   "metadata": {},
   "outputs": [],
   "source": [
    "from bs4 import BeautifulSoup"
   ]
  },
  {
   "cell_type": "code",
   "execution_count": 15,
   "metadata": {},
   "outputs": [
    {
     "name": "stdout",
     "output_type": "stream",
     "text": [
      "Test Course 1 Name cost $20\n",
      "Test Course 2 Name cost $40\n",
      "Test Course 3 Name cost $60\n"
     ]
    }
   ],
   "source": [
    "#Read the html file\n",
    "with open(\"home.html\", \"r\") as html_file:\n",
    "    \n",
    "    #store the contents of that file in a variable\n",
    "    content = html_file.read()\n",
    "\n",
    "    #passing that content through BeautifulSoup along with lxml parser\n",
    "    soup = BeautifulSoup(content, \"lxml\")\n",
    "    \n",
    "    #All div tags with class name \"card\" are stored in a variable of type list\n",
    "    course_cards = soup.find_all(\"div\", class_=\"card\")\n",
    "    \n",
    "    #iterating through each of those div tags and printing the info we want\n",
    "    for course in course_cards:\n",
    "        course_name = course.h5.text\n",
    "        course_price = course.a.text.split()[-1]\n",
    "        print(f\"{course_name} cost {course_price}\")\n",
    "   "
   ]
  },
  {
   "cell_type": "code",
   "execution_count": null,
   "metadata": {},
   "outputs": [],
   "source": []
  }
 ],
 "metadata": {
  "kernelspec": {
   "display_name": "base",
   "language": "python",
   "name": "python3"
  },
  "language_info": {
   "codemirror_mode": {
    "name": "ipython",
    "version": 3
   },
   "file_extension": ".py",
   "mimetype": "text/x-python",
   "name": "python",
   "nbconvert_exporter": "python",
   "pygments_lexer": "ipython3",
   "version": "3.9.13"
  },
  "orig_nbformat": 4,
  "vscode": {
   "interpreter": {
    "hash": "1b9a204721d640b734e22d5880c92c123cb125d7037f5448c5d8ece94eed1ac8"
   }
  }
 },
 "nbformat": 4,
 "nbformat_minor": 2
}
