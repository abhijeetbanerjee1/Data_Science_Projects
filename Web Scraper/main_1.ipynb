{
 "cells": [
  {
   "cell_type": "code",
   "execution_count": 39,
   "metadata": {},
   "outputs": [],
   "source": [
    "from bs4 import BeautifulSoup\n",
    "import requests\n",
    "import time"
   ]
  },
  {
   "cell_type": "code",
   "execution_count": 43,
   "metadata": {},
   "outputs": [
    {
     "name": "stdout",
     "output_type": "stream",
     "text": [
      "Enter somes skills you are not fimiliar with:\n",
      "Filtering Your Results:\n",
      "File Saved: 0\n",
      "File Saved: 5\n",
      "File Saved: 10\n",
      "File Saved: 11\n",
      "File Saved: 15\n",
      "File Saved: 16\n",
      "File Saved: 18\n",
      "File Saved: 21\n",
      "Waiting for 10 minutes...\n"
     ]
    },
    {
     "ename": "KeyboardInterrupt",
     "evalue": "",
     "output_type": "error",
     "traceback": [
      "\u001b[0;31m---------------------------------------------------------------------------\u001b[0m",
      "\u001b[0;31mKeyboardInterrupt\u001b[0m                         Traceback (most recent call last)",
      "\u001b[0;32m/var/folders/22/4cywtbxx6gxc5nrkvcxfmqbm0000gn/T/ipykernel_3584/1327732789.py\u001b[0m in \u001b[0;36m<module>\u001b[0;34m\u001b[0m\n\u001b[1;32m     25\u001b[0m         \u001b[0mtime_wait\u001b[0m \u001b[0;34m=\u001b[0m \u001b[0;36m10\u001b[0m\u001b[0;34m\u001b[0m\u001b[0;34m\u001b[0m\u001b[0m\n\u001b[1;32m     26\u001b[0m         \u001b[0mprint\u001b[0m\u001b[0;34m(\u001b[0m\u001b[0;34mf\"Waiting for {time_wait} minutes...\"\u001b[0m\u001b[0;34m)\u001b[0m\u001b[0;34m\u001b[0m\u001b[0;34m\u001b[0m\u001b[0m\n\u001b[0;32m---> 27\u001b[0;31m         \u001b[0mtime\u001b[0m\u001b[0;34m.\u001b[0m\u001b[0msleep\u001b[0m\u001b[0;34m(\u001b[0m\u001b[0mtime_wait\u001b[0m \u001b[0;34m*\u001b[0m \u001b[0;36m60\u001b[0m\u001b[0;34m)\u001b[0m\u001b[0;34m\u001b[0m\u001b[0;34m\u001b[0m\u001b[0m\n\u001b[0m",
      "\u001b[0;31mKeyboardInterrupt\u001b[0m: "
     ]
    }
   ],
   "source": [
    "print(\"Enter somes skills you are not fimiliar with:\")\n",
    "unfimiliar_skills = input(\">\")\n",
    "print(\"Filtering Your Results:\")\n",
    "\n",
    "def find_jobs():\n",
    "    html_text = requests.get(\"https://www.timesjobs.com/candidate/job-search.html?searchType=personalizedSearch&from=submit&txtKeywords=python&txtLocation=\").text\n",
    "    soup = BeautifulSoup(html_text, \"lxml\")\n",
    "    jobs = soup.find_all(\"li\", class_ = \"clearfix job-bx wht-shd-bx\")\n",
    "    for index, job in enumerate(jobs):\n",
    "        published_date = job.find(\"span\", class_ = \"sim-posted\").span.text\n",
    "        if \"few\" in published_date:\n",
    "            company_name = job.find(\"h3\", class_ = \"joblist-comp-name\").text.replace(\" \",\"\")\n",
    "            skills = job.find(\"span\", class_ = \"srp-skills\").text.replace(\" \",\"\")\n",
    "            more_info = job.header.h2.a[\"href\"]\n",
    "            if unfimiliar_skills not in skills:\n",
    "                with open(f\"job_postings/{index}.txt\", \"w\") as f:\n",
    "                    f.write(f\"Company Name: {company_name.strip()} \\n\")\n",
    "                    f.write(f\"Required Skills: {skills.strip()}\\n\")\n",
    "                    f.write(f\"More Info: {more_info}\\n\")\n",
    "                print(f\"File Saved: {index}\")\n",
    "\n",
    "if __name__ == \"__main__\":\n",
    "    while True:\n",
    "        find_jobs()\n",
    "        time_wait = 10\n",
    "        print(f\"Waiting for {time_wait} minutes...\")\n",
    "        time.sleep(time_wait * 60)"
   ]
  }
 ],
 "metadata": {
  "kernelspec": {
   "display_name": "base",
   "language": "python",
   "name": "python3"
  },
  "language_info": {
   "codemirror_mode": {
    "name": "ipython",
    "version": 3
   },
   "file_extension": ".py",
   "mimetype": "text/x-python",
   "name": "python",
   "nbconvert_exporter": "python",
   "pygments_lexer": "ipython3",
   "version": "3.9.13"
  },
  "orig_nbformat": 4,
  "vscode": {
   "interpreter": {
    "hash": "1b9a204721d640b734e22d5880c92c123cb125d7037f5448c5d8ece94eed1ac8"
   }
  }
 },
 "nbformat": 4,
 "nbformat_minor": 2
}
